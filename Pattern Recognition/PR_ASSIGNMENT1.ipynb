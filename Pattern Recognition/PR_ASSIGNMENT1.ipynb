{
 "cells": [
  {
   "cell_type": "code",
   "execution_count": 72,
   "metadata": {},
   "outputs": [],
   "source": [
    "import cv2\n",
    "import numpy as np"
   ]
  },
  {
   "cell_type": "code",
   "execution_count": 93,
   "metadata": {},
   "outputs": [],
   "source": [
    "#1- Read the road.jpg image using OpenCV. Print it to the screen.\n",
    "\n",
    "im = cv2.imread('road.jpg')\n",
    "imS = cv2.resize(im, (960, 540))  #i resized the image only for the purpose of viewing it since it was too big\n",
    "\n",
    "cv2.imshow('image1',imS)\n",
    "cv2.waitKey(7000)\n",
    "cv2.destroyWindow('image1')"
   ]
  },
  {
   "cell_type": "code",
   "execution_count": 94,
   "metadata": {},
   "outputs": [
    {
     "name": "stdout",
     "output_type": "stream",
     "text": [
      "Height,Width of image = (1603, 2400) and # of channels =  3\n"
     ]
    }
   ],
   "source": [
    "#2- Print the shape of your image. What are the high, width, and number of the channels?\n",
    "\n",
    "h,w,c = im.shape\n",
    "print('Height,Width of image =', im.shape[:2], 'and # of channels = ', c)"
   ]
  },
  {
   "cell_type": "code",
   "execution_count": 95,
   "metadata": {},
   "outputs": [
    {
     "data": {
      "text/plain": [
       "(1603, 2400)"
      ]
     },
     "execution_count": 95,
     "metadata": {},
     "output_type": "execute_result"
    }
   ],
   "source": [
    "#3- Read the image as a grayscale, then print the shape. Is there a difference in the result? \n",
    "\n",
    "im_gray = cv2.imread('road.jpg',0)\n",
    "imgray = cv2.resize(im_gray, (960, 540))  #i resized the image only for the purpose of viewing it since it was too big\n",
    "\n",
    "cv2.imshow('image1',imgray)\n",
    "cv2.waitKey(7000)\n",
    "cv2.destroyWindow('image1')\n",
    "\n",
    "im_gray.shape\n",
    "\n",
    "\n",
    "#the difference is that a grayscale image has one channel, while RGB images have 3 channels, so the shape for grayscale images is just (height,width)\n",
    "#while the shape for RGB images is (height,width,3)"
   ]
  },
  {
   "cell_type": "code",
   "execution_count": 96,
   "metadata": {},
   "outputs": [
    {
     "name": "stdout",
     "output_type": "stream",
     "text": [
      "pixel intensities values:\n",
      " [[[ 17  34  37]\n",
      "  [ 20  35  38]\n",
      "  [ 22  37  40]\n",
      "  ...\n",
      "  [108 102 121]\n",
      "  [108 100 123]\n",
      "  [106 100 123]]\n",
      "\n",
      " [[ 18  35  38]\n",
      "  [ 22  37  40]\n",
      "  [ 24  39  42]\n",
      "  ...\n",
      "  [106 100 119]\n",
      "  [105  97 120]\n",
      "  [102  96 119]]\n",
      "\n",
      " [[ 19  36  39]\n",
      "  [ 24  39  42]\n",
      "  [ 27  42  45]\n",
      "  ...\n",
      "  [103  97 116]\n",
      "  [101  93 116]\n",
      "  [ 97  91 114]]\n",
      "\n",
      " ...\n",
      "\n",
      " [[ 65  51  53]\n",
      "  [ 68  51  55]\n",
      "  [ 67  52  56]\n",
      "  ...\n",
      "  [ 66  58  69]\n",
      "  [ 66  58  69]\n",
      "  [ 66  58  69]]\n",
      "\n",
      " [[ 67  51  52]\n",
      "  [ 68  51  54]\n",
      "  [ 69  52  55]\n",
      "  ...\n",
      "  [ 66  58  69]\n",
      "  [ 66  58  69]\n",
      "  [ 66  58  69]]\n",
      "\n",
      " [[ 67  51  52]\n",
      "  [ 68  51  54]\n",
      "  [ 69  52  55]\n",
      "  ...\n",
      "  [ 66  58  69]\n",
      "  [ 66  58  69]\n",
      "  [ 66  58  69]]]\n"
     ]
    }
   ],
   "source": [
    "#4- Slice/crop the white biggest truck in the image and show the cropped image, print the pixel intensities values of the cropped ROI, \n",
    "#then change its pixel values to 0, attach the new value to the old image, and print the modified one.\n",
    "\n",
    "cropped_im = im[900:1603, 1:600] \n",
    "cv2.imshow('cropped image',cropped_im)\n",
    "\n",
    "cv2.waitKey(4000)\n",
    "cv2.destroyAllWindows()\n",
    "\n",
    "print('pixel intensities values:\\n',cropped_im) \n"
   ]
  },
  {
   "cell_type": "code",
   "execution_count": 97,
   "metadata": {},
   "outputs": [],
   "source": [
    "im[900:1603, 1:600] = np.zeros(cropped_im.shape)\n",
    "\n",
    "imS = cv2.resize(im, (960, 540))  #i resized the image only for the purpose of viewing it since it was too big\n",
    "cv2.imshow(\"cropped1\", imS)\n",
    "\n",
    "cv2.waitKey(10000)\n",
    "cv2.destroyAllWindows()"
   ]
  },
  {
   "cell_type": "code",
   "execution_count": 99,
   "metadata": {},
   "outputs": [],
   "source": [
    "#5- Resize the image by 0.5, then rotate it by 45 degrees clockwise, and show the result.\n",
    "\n",
    "sf = 0.5\n",
    "scaled_im = cv2.resize(im, None, fx = sf, fy = sf)\n",
    "\n",
    "height, width = scaled_im.shape[:2]\n",
    "center = (width/2, height/2)\n",
    "\n",
    "rot_sim = cv2.getRotationMatrix2D(center=center, angle= -45, scale=1)\n",
    "\n",
    "rotated_im = cv2.warpAffine(src=scaled_im, M=rot_sim, dsize=(width, height))\n",
    "\n",
    "cv2.imshow('scaled image', scaled_im)\n",
    "cv2.imshow('Rotated image', rotated_im)\n",
    "cv2.waitKey(16000)\n",
    "cv2.destroyAllWindows()"
   ]
  }
 ],
 "metadata": {
  "kernelspec": {
   "display_name": "Python 3",
   "language": "python",
   "name": "python3"
  },
  "language_info": {
   "codemirror_mode": {
    "name": "ipython",
    "version": 3
   },
   "file_extension": ".py",
   "mimetype": "text/x-python",
   "name": "python",
   "nbconvert_exporter": "python",
   "pygments_lexer": "ipython3",
   "version": "3.11.1"
  },
  "orig_nbformat": 4,
  "vscode": {
   "interpreter": {
    "hash": "ebfc0a8d552866b0d59eba665220a57de3bc06f3ac643b8bef38dd8f66781fdd"
   }
  }
 },
 "nbformat": 4,
 "nbformat_minor": 2
}
